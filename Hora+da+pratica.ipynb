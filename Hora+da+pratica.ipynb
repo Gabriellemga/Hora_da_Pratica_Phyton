{
  "nbformat": 4,
  "nbformat_minor": 0,
  "metadata": {
    "colab": {
      "provenance": [],
      "include_colab_link": true
    },
    "kernelspec": {
      "name": "python3",
      "display_name": "Python 3"
    },
    "language_info": {
      "name": "python"
    }
  },
  "cells": [
    {
      "cell_type": "markdown",
      "metadata": {
        "id": "view-in-github",
        "colab_type": "text"
      },
      "source": [
        "<a href=\"https://colab.research.google.com/github/Gabriellemga/Hora_da_Pratica_Phyton/blob/main/Hora%2Bda%2Bpratica.ipynb\" target=\"_parent\"><img src=\"https://colab.research.google.com/assets/colab-badge.svg\" alt=\"Open In Colab\"/></a>"
      ]
    },
    {
      "cell_type": "markdown",
      "source": [
        "# Sobre o notebook\n",
        "\n",
        "A \"hora da prática\" é uma atividade do curso de Python para Data Science da Alura que contém diversos desafios envolvendo os aprendizados de cada aula.\n",
        "\n",
        "O notebook \"hora da pratica\" é um notebook construído com espaço para as células dos desafios propostos no curso, com ele você tem espaço para construir e executar suas soluções"
      ],
      "metadata": {
        "id": "_kwAaQ36gLQ1"
      }
    },
    {
      "cell_type": "markdown",
      "source": [
        "## Aula 1 - Introdução ao Python"
      ],
      "metadata": {
        "id": "Mc-KN0dA0Z83"
      }
    },
    {
      "cell_type": "markdown",
      "source": [
        "### Questão 1\n",
        "\n",
        "Imprima a frase `Escola de Dados da Alura!`"
      ],
      "metadata": {
        "id": "l5eLWf0W0ikn"
      }
    },
    {
      "cell_type": "code",
      "source": [
        "print('Escola de Dados da Alira')"
      ],
      "metadata": {
        "id": "5pllxJ0h0-yA"
      },
      "execution_count": null,
      "outputs": []
    },
    {
      "cell_type": "markdown",
      "source": [
        "### Questão 2\n",
        "Imprima na tela seu nome e seu sobrenome seguindo a estrutura abaixo:\n",
        "```\n",
        "Nome: [seu nome]\n",
        "Sobrenome: [seu sobrenome]\n",
        "```\n"
      ],
      "metadata": {
        "id": "tQdX90Ue03c7"
      }
    },
    {
      "cell_type": "code",
      "source": [
        "print('Nome: Márcia ')\n",
        "print('Sobrenome : Apolinario')"
      ],
      "metadata": {
        "id": "RVw5iKn20_Ps"
      },
      "execution_count": null,
      "outputs": []
    },
    {
      "cell_type": "markdown",
      "source": [
        "### Questão 3\n",
        "Imprima o seu primeiro nome letra a letra. Por exemplo, nome é Mirla, então eu obtenho a seguinte saída:\n",
        "```\n",
        "M\n",
        "I\n",
        "R\n",
        "L\n",
        "A\n",
        "```\n"
      ],
      "metadata": {
        "id": "gfg-aiip03vC"
      }
    },
    {
      "cell_type": "code",
      "source": [
        "print('M\\nA\\nR\\nC\\nI\\nA')"
      ],
      "metadata": {
        "id": "v5bkrgf60_qx"
      },
      "execution_count": null,
      "outputs": []
    },
    {
      "cell_type": "markdown",
      "source": [
        "### Questão 4\n",
        "Imprima o dia do seu nascimento em formato `dia mês ano`. Os valores de dia e ano não podem estar entre aspas. O formato deve estar como no exemplo, supondo uma data de aniversário dia 28 de fevereiro de 2003:\n",
        "```\n",
        "28 fevereiro 2003\n",
        "```"
      ],
      "metadata": {
        "id": "oadrJbl704MM"
      }
    },
    {
      "cell_type": "code",
      "source": [
        "print ( '06 de Março 1986')"
      ],
      "metadata": {
        "id": "cx0KSsrq1ALD"
      },
      "execution_count": null,
      "outputs": []
    },
    {
      "cell_type": "markdown",
      "source": [
        "### Questão 5\n",
        "Imprima em um único print o atual ano que você está fazendo esse curso, o valor do ano deve ser um dado numérico. A saída do print deve ser a seguinte:\n",
        "```\n",
        "Ano atual: [ano]\n",
        "```\n"
      ],
      "metadata": {
        "id": "3RgyMaan04TD"
      }
    },
    {
      "cell_type": "code",
      "execution_count": null,
      "metadata": {
        "id": "UN77EfQ2d36Y"
      },
      "outputs": [],
      "source": [
        "print ('Ano atual : 2025')"
      ]
    },
    {
      "cell_type": "markdown",
      "source": [
        "## Aula 2 - Manipulando dados no Python"
      ],
      "metadata": {
        "id": "D9e3FqhO1S3X"
      }
    },
    {
      "cell_type": "markdown",
      "source": [
        "### Coleta e amostragem de dados"
      ],
      "metadata": {
        "id": "n6o7C1Ze2cRe"
      }
    },
    {
      "cell_type": "markdown",
      "source": [
        "#### Questão 1\n",
        "Crie um programa que solicite à pessoa usuária digitar seu nome, e imprima “Olá, [nome]!”."
      ],
      "metadata": {
        "id": "sRneWag9PV5Q"
      }
    },
    {
      "cell_type": "code",
      "source": [
        "nome = input('Qual o seu nome?')\n",
        "print( 'Ola, %s !'%nome)"
      ],
      "metadata": {
        "id": "dbX1fKqy2HnE",
        "colab": {
          "base_uri": "https://localhost:8080/",
          "height": 304
        },
        "outputId": "06abe88e-c738-4ea3-8e29-81e65bc7cce9"
      },
      "execution_count": 1,
      "outputs": [
        {
          "output_type": "error",
          "ename": "KeyboardInterrupt",
          "evalue": "Interrupted by user",
          "traceback": [
            "\u001b[0;31m---------------------------------------------------------------------------\u001b[0m",
            "\u001b[0;31mKeyboardInterrupt\u001b[0m                         Traceback (most recent call last)",
            "\u001b[0;32m<ipython-input-1-539602755eea>\u001b[0m in \u001b[0;36m<cell line: 0>\u001b[0;34m()\u001b[0m\n\u001b[0;32m----> 1\u001b[0;31m \u001b[0mnome\u001b[0m \u001b[0;34m=\u001b[0m \u001b[0minput\u001b[0m\u001b[0;34m(\u001b[0m\u001b[0;34m'Qual o seu nome?'\u001b[0m\u001b[0;34m)\u001b[0m\u001b[0;34m\u001b[0m\u001b[0;34m\u001b[0m\u001b[0m\n\u001b[0m\u001b[1;32m      2\u001b[0m \u001b[0mprint\u001b[0m\u001b[0;34m(\u001b[0m \u001b[0;34m'Ola, %s !'\u001b[0m\u001b[0;34m%\u001b[0m\u001b[0mnome\u001b[0m\u001b[0;34m)\u001b[0m\u001b[0;34m\u001b[0m\u001b[0;34m\u001b[0m\u001b[0m\n",
            "\u001b[0;32m/usr/local/lib/python3.11/dist-packages/ipykernel/kernelbase.py\u001b[0m in \u001b[0;36mraw_input\u001b[0;34m(self, prompt)\u001b[0m\n\u001b[1;32m   1175\u001b[0m                 \u001b[0;34m\"raw_input was called, but this frontend does not support input requests.\"\u001b[0m\u001b[0;34m\u001b[0m\u001b[0;34m\u001b[0m\u001b[0m\n\u001b[1;32m   1176\u001b[0m             )\n\u001b[0;32m-> 1177\u001b[0;31m         return self._input_request(\n\u001b[0m\u001b[1;32m   1178\u001b[0m             \u001b[0mstr\u001b[0m\u001b[0;34m(\u001b[0m\u001b[0mprompt\u001b[0m\u001b[0;34m)\u001b[0m\u001b[0;34m,\u001b[0m\u001b[0;34m\u001b[0m\u001b[0;34m\u001b[0m\u001b[0m\n\u001b[1;32m   1179\u001b[0m             \u001b[0mself\u001b[0m\u001b[0;34m.\u001b[0m\u001b[0m_parent_ident\u001b[0m\u001b[0;34m[\u001b[0m\u001b[0;34m\"shell\"\u001b[0m\u001b[0;34m]\u001b[0m\u001b[0;34m,\u001b[0m\u001b[0;34m\u001b[0m\u001b[0;34m\u001b[0m\u001b[0m\n",
            "\u001b[0;32m/usr/local/lib/python3.11/dist-packages/ipykernel/kernelbase.py\u001b[0m in \u001b[0;36m_input_request\u001b[0;34m(self, prompt, ident, parent, password)\u001b[0m\n\u001b[1;32m   1217\u001b[0m             \u001b[0;32mexcept\u001b[0m \u001b[0mKeyboardInterrupt\u001b[0m\u001b[0;34m:\u001b[0m\u001b[0;34m\u001b[0m\u001b[0;34m\u001b[0m\u001b[0m\n\u001b[1;32m   1218\u001b[0m                 \u001b[0;31m# re-raise KeyboardInterrupt, to truncate traceback\u001b[0m\u001b[0;34m\u001b[0m\u001b[0;34m\u001b[0m\u001b[0m\n\u001b[0;32m-> 1219\u001b[0;31m                 \u001b[0;32mraise\u001b[0m \u001b[0mKeyboardInterrupt\u001b[0m\u001b[0;34m(\u001b[0m\u001b[0;34m\"Interrupted by user\"\u001b[0m\u001b[0;34m)\u001b[0m \u001b[0;32mfrom\u001b[0m \u001b[0;32mNone\u001b[0m\u001b[0;34m\u001b[0m\u001b[0;34m\u001b[0m\u001b[0m\n\u001b[0m\u001b[1;32m   1220\u001b[0m             \u001b[0;32mexcept\u001b[0m \u001b[0mException\u001b[0m\u001b[0;34m:\u001b[0m\u001b[0;34m\u001b[0m\u001b[0;34m\u001b[0m\u001b[0m\n\u001b[1;32m   1221\u001b[0m                 \u001b[0mself\u001b[0m\u001b[0;34m.\u001b[0m\u001b[0mlog\u001b[0m\u001b[0;34m.\u001b[0m\u001b[0mwarning\u001b[0m\u001b[0;34m(\u001b[0m\u001b[0;34m\"Invalid Message:\"\u001b[0m\u001b[0;34m,\u001b[0m \u001b[0mexc_info\u001b[0m\u001b[0;34m=\u001b[0m\u001b[0;32mTrue\u001b[0m\u001b[0;34m)\u001b[0m\u001b[0;34m\u001b[0m\u001b[0;34m\u001b[0m\u001b[0m\n",
            "\u001b[0;31mKeyboardInterrupt\u001b[0m: Interrupted by user"
          ]
        }
      ]
    },
    {
      "cell_type": "markdown",
      "source": [
        "#### Questão 2\n",
        "Crie um programa que solicite à pessoa usuária digitar seu nome e idade, e imprima “Olá, [nome], você tem [idade] anos.”."
      ],
      "metadata": {
        "id": "BJ1SznEp70d5"
      }
    },
    {
      "cell_type": "code",
      "source": [
        "nome = input('Digite o seu nome : ')\n",
        "idade = int(input('Digite a sua idade:'))\n",
        "print(f'Olá. {nome}, você tem {idade} anos')\n",
        "print('Olá, %s, você tem %d anos'%(nome, idade))"
      ],
      "metadata": {
        "id": "jKz-0Sq8PFkp"
      },
      "execution_count": null,
      "outputs": []
    },
    {
      "cell_type": "markdown",
      "source": [
        "#### Questão 3\n",
        "Crie um programa que solicite à pessoa usuária digitar seu nome, idade e altura em metros, e imprima “Olá, [nome], você tem [idade] anos e mede [altura] metros!”."
      ],
      "metadata": {
        "id": "2T0jNYZt70aa"
      }
    },
    {
      "cell_type": "code",
      "source": [
        "nome = input('Digite seu nome: ')\n",
        "idade = int(input('Digite a sua altura:'))\n",
        "altura = float(input('Digite a sua altura:'))\n",
        "print('Olá,{}, você tem {} anos e mede {} metros !'.format(nome,idade,altura))"
      ],
      "metadata": {
        "id": "pI4kHNzTPIXh"
      },
      "execution_count": null,
      "outputs": []
    },
    {
      "cell_type": "markdown",
      "source": [
        "### Calculadora com operadores"
      ],
      "metadata": {
        "id": "mEBFwKkC70KP"
      }
    },
    {
      "cell_type": "markdown",
      "source": [
        "#### Questão 1\n",
        "\n",
        "Crie um programa que solicite dois valores numéricos à pessoa usuária e imprima a soma dos dois valores."
      ],
      "metadata": {
        "id": "H-IV1oAPPSqK"
      }
    },
    {
      "cell_type": "code",
      "source": [
        "valor_1 = int(input('Digite um número:'))\n",
        "valor_2 = int(input('Digite outro número:'))\n",
        "soma = int(valor_1 + valor_2)\n",
        "print('A soma %d com %d é igual a %d'%(valor_1,valor_2,soma))"
      ],
      "metadata": {
        "id": "Zb0W84sy8rnp"
      },
      "execution_count": null,
      "outputs": []
    },
    {
      "cell_type": "markdown",
      "source": [
        "#### Questão 2\n",
        "Crie um programa que solicite três valores numéricos à pessoa usuária e imprima a soma dos três valores."
      ],
      "metadata": {
        "id": "LUoi2MOu70Em"
      }
    },
    {
      "cell_type": "code",
      "source": [
        "valor_1 = int(input('Digite um número:  '))\n",
        "valor_2 = int(input('Digite outro número: '))\n",
        "valor_3 = int(input('Digite mais um número: '))\n",
        "soma = int(valor_1 + valor_2 + valor_3)\n",
        "print(f'A soma {valor_1},{valor_2} e {valor_3} é igual a {soma}')"
      ],
      "metadata": {
        "id": "4FYjWyBS8rDm"
      },
      "execution_count": null,
      "outputs": []
    },
    {
      "cell_type": "markdown",
      "source": [
        "#### Questão 3\n",
        "Crie um programa que solicite dois valores numéricos à pessoa usuária e imprima a subtração do primeiro pelo o segundo valor."
      ],
      "metadata": {
        "id": "lezGctF07z8i"
      }
    },
    {
      "cell_type": "code",
      "source": [
        "valor_1 = int(input('Digite um úmero: '))\n",
        "valor_2 = int(input('Digite outro número: '))\n",
        "subtração = int(valor_1 - valor_2)\n",
        "print('A diferença entre {} e {} é de {}'.format(valor_1,valor_2,subtração))"
      ],
      "metadata": {
        "id": "k0GE1z4w8p3J"
      },
      "execution_count": null,
      "outputs": []
    },
    {
      "cell_type": "markdown",
      "source": [
        "#### Questão 4\n",
        "\n",
        "Crie um programa que solicite dois valores numéricos à pessoa usuária e imprima a multiplicação dos dois valores.\n"
      ],
      "metadata": {
        "id": "wwMP-dPU7zxW"
      }
    },
    {
      "cell_type": "code",
      "source": [
        "valor_1 = int(input('Digite um úmero: '))\n",
        "valor_2 = int(input('Digite outro número: '))\n",
        "multiplicação = int(valor_1 * valor_2)\n",
        "print(' A multiplicaçõ de %d e %d é igual a %d'%(valor_1,valor_2,multiplicação))"
      ],
      "metadata": {
        "id": "GzFCVHfp8peZ"
      },
      "execution_count": null,
      "outputs": []
    },
    {
      "cell_type": "markdown",
      "source": [
        "#### Questão 5\n",
        "\n",
        "Crie um programa que solicite dois valores numéricos, um numerador e um denominador, e realize a divisão entre os dois valores. Deixe claro que o valor do denominador não pode ser `0`.\n"
      ],
      "metadata": {
        "id": "9kxyHxUo7zRD"
      }
    },
    {
      "cell_type": "code",
      "source": [
        "valor_1 = int(input('Digite um úmero: '))\n",
        "valor_2 = int(input('Digite outro número, diferente de 0: '))\n",
        "divisão = float(valor_1 / valor_2)\n",
        "print(f'A divisão de {valor_1} por {valor_2} é igual a {divisão:.2f}' )"
      ],
      "metadata": {
        "id": "ytJ8l5KH8ozc"
      },
      "execution_count": null,
      "outputs": []
    },
    {
      "cell_type": "markdown",
      "source": [
        "#### Questão 6\n",
        "\n",
        "Crie um programa que solicite dois valores numéricos, um operador e uma potência, e realize a exponenciação entre esses dois valores.\n"
      ],
      "metadata": {
        "id": "zkUSBTQq8Hxt"
      }
    },
    {
      "cell_type": "code",
      "source": [
        "valor_1 = int(input('Escolha um numero :  '))\n",
        "valor_2 = int(input('Escolha um número para elevar o múmero anteriormente escolhido: '))\n",
        "potencia = int( valor_1**valor_2)\n",
        "print( ' O número %d elevado a %d é igual %d'%(valor_1,valor_2,potencia))"
      ],
      "metadata": {
        "id": "RPj36jq08oZp"
      },
      "execution_count": null,
      "outputs": []
    },
    {
      "cell_type": "markdown",
      "source": [
        "#### Questão 7\n",
        "Crie um programa que solicite dois valores numéricos, um numerador e um denominador e realize a divisão inteira entre os dois valores. Deixe claro que o valor do denominador não pode ser `0`."
      ],
      "metadata": {
        "id": "yiunIusZ8Huj"
      }
    },
    {
      "cell_type": "code",
      "source": [
        "valor_1 = float(input('Digite um úmero : '))\n",
        "valor_2 = float(input('Digite outro número, diferente de 0: '))\n",
        "divisão = float(valor_1 // valor_2)\n",
        "print(f'O valor da parte inteira da  divisão de {valor_1} por {valor_2} é igual a {divisão}' )"
      ],
      "metadata": {
        "id": "UHK8xITf8oCg"
      },
      "execution_count": null,
      "outputs": []
    },
    {
      "cell_type": "markdown",
      "source": [
        "#### Questão 8\n",
        "\n",
        "Crie um programa que solicite dois valores numéricos, um numerador e um denominador, e retorne o resto da divisão entre os dois valores. Deixe claro que o valor do denominador não pode ser `0`."
      ],
      "metadata": {
        "id": "z_D_JiLX8Hra"
      }
    },
    {
      "cell_type": "code",
      "source": [
        "valor_1 = float(input('Digite um úmero : '))\n",
        "valor_2 = float(input('Digite outro número, diferente de 0: '))\n",
        "divisão = float(valor_1 % valor_2)\n",
        "print(f'A  divisão de {valor_1} por {valor_2} é tem resto igual a {divisão}' )"
      ],
      "metadata": {
        "id": "EWGJeukO8nqx"
      },
      "execution_count": null,
      "outputs": []
    },
    {
      "cell_type": "markdown",
      "source": [
        "#### Questão 9\n",
        "\n",
        "Crie um código que solicita 3 notas de um estudante e imprima a média das notas."
      ],
      "metadata": {
        "id": "RDRajNkU8N8N"
      }
    },
    {
      "cell_type": "code",
      "source": [
        "nota_1 = float(input('Digite sua primeira nota : '))\n",
        "nota_2 = float(input('Digite sua segunda nota : '))\n",
        "nota_3 = float(input('Digite sua terceira nota : '))\n",
        "media = float( (nota_1 + nota_2 + nota_3)/ 3 )\n",
        "print(f'A média das notas {nota_1}, {nota_2} e {nota_3} é {media:.2f}')"
      ],
      "metadata": {
        "id": "H6F4Ojzt8nSR"
      },
      "execution_count": null,
      "outputs": []
    },
    {
      "cell_type": "markdown",
      "source": [
        "#### Questão 10\n",
        "\n",
        "Crie um código que calcule e imprima a média ponderada dos números 5, 12, 20 e 15 com pesos respectivamente iguais a 1, 2, 3 e 4."
      ],
      "metadata": {
        "id": "d7fjkne58N21"
      }
    },
    {
      "cell_type": "code",
      "source": [
        "num_1 = 5\n",
        "num_2 = 12\n",
        "num_3 = 20\n",
        "num_4 = 15\n",
        "p_1 = 1\n",
        "p_2 = 2\n",
        "p_3 = 3\n",
        "p_4 = 4\n",
        "media_poderada = float( (num_1*p_1 + num_2*p_2 + num_3*p_3 + num_4*p_4)/ (p_1 + p_2 + p_3 + p_4))\n",
        "print(f'A media ponderada dos números {num_1}, {num_2}, {num_3}, {num_4} com pesos {p_1}, {p_2}, {p_3} e {p_4}\\n respectivamente é igual {media_poderada}. ')"
      ],
      "metadata": {
        "id": "fwjoHlV48mkv"
      },
      "execution_count": null,
      "outputs": []
    },
    {
      "cell_type": "markdown",
      "source": [
        "### Editando textos"
      ],
      "metadata": {
        "id": "GNmbX1OU8N0V"
      }
    },
    {
      "cell_type": "markdown",
      "source": [
        "#### Questão 1\n",
        "\n",
        "Crie uma variável chamada “`frase`” e atribua a ela uma string de sua escolha. Em seguida, imprima a frase na tela."
      ],
      "metadata": {
        "id": "6wZ85mCsRCV0"
      }
    },
    {
      "cell_type": "code",
      "source": [
        "frase = 'Viver é melhor que sonhar.'\n",
        "print(frase)"
      ],
      "metadata": {
        "id": "eRqr_gh-8mFy",
        "colab": {
          "base_uri": "https://localhost:8080/"
        },
        "outputId": "dad65c56-6de3-4d7f-dfd5-0f0faee1d694"
      },
      "execution_count": 2,
      "outputs": [
        {
          "output_type": "stream",
          "name": "stdout",
          "text": [
            "Viver é melhor que sonhar.\n"
          ]
        }
      ]
    },
    {
      "cell_type": "markdown",
      "source": [
        "#### Questão 2\n",
        "Crie um código que solicite uma frase e depois imprima a frase na tela."
      ],
      "metadata": {
        "id": "Aac17z-18Nwv"
      }
    },
    {
      "cell_type": "code",
      "source": [
        "frase = input('Digite uma frase de sua escolha: ')\n",
        "print(frase)"
      ],
      "metadata": {
        "id": "8zfE2hh98lb0"
      },
      "execution_count": null,
      "outputs": []
    },
    {
      "cell_type": "markdown",
      "source": [
        "#### Questão 3\n",
        "\n",
        "Crie um código que solicite uma frase à pessoa usuária e imprima a mesma frase digitada mas com todas as letras maiúsculas."
      ],
      "metadata": {
        "id": "DXVzqpN58Ntr"
      }
    },
    {
      "cell_type": "code",
      "source": [
        "frase = input('Digite uma frase de sua escolha: ')\n",
        "print(frase.upper())"
      ],
      "metadata": {
        "id": "d0VzoYP68k-I"
      },
      "execution_count": null,
      "outputs": []
    },
    {
      "cell_type": "markdown",
      "source": [
        "#### Questão 4\n",
        "\n",
        "Crie um código que solicite uma frase à pessoa usuária e imprima a mesma frase digitada mas com todas as letras minúsculas."
      ],
      "metadata": {
        "id": "I12VeNPK8Nqb"
      }
    },
    {
      "cell_type": "code",
      "source": [
        "frase = input('Digite uma frase de sua escolha: ')\n",
        "print(frase.lower())"
      ],
      "metadata": {
        "id": "KD8rNy2K8kox"
      },
      "execution_count": null,
      "outputs": []
    },
    {
      "cell_type": "markdown",
      "source": [
        "#### Questão 5\n",
        "\n",
        "Crie uma variável chamada “`frase`” e atribua a ela uma string de sua escolha. Em seguida, imprima a frase sem espaços em branco no início e no fim."
      ],
      "metadata": {
        "id": "cRqngSE48Nog"
      }
    },
    {
      "cell_type": "code",
      "source": [
        "frase = 'Eu estou amando aprender Python'\n",
        "print(frase.strip())"
      ],
      "metadata": {
        "id": "aSCpdF-o8kBs"
      },
      "execution_count": null,
      "outputs": []
    },
    {
      "cell_type": "markdown",
      "source": [
        "#### Questão 6\n",
        "\n",
        "Crie um código que solicite uma frase à pessoa usuária e imprima a mesma frase sem espaços em branco no início e no fim."
      ],
      "metadata": {
        "id": "murIazpQ8Nkv"
      }
    },
    {
      "cell_type": "code",
      "source": [
        "frase = input('Digite uma frase de sua escolha: ')\n",
        "print(frase.strip())"
      ],
      "metadata": {
        "id": "tHunjwuG8jNq"
      },
      "execution_count": null,
      "outputs": []
    },
    {
      "cell_type": "markdown",
      "source": [
        "#### Questão 7\n",
        "\n",
        "\n",
        "Crie um código que solicite uma frase à pessoa usuária e imprima a mesma frase sem espaços em branco no início e no fim e em letras minúsculas."
      ],
      "metadata": {
        "id": "eRxc2OeX8Nh2"
      }
    },
    {
      "cell_type": "code",
      "source": [
        "frase = input('Digite uma frase de sua escolha: ')\n",
        "print(frase.strip().lower())"
      ],
      "metadata": {
        "id": "DYm0_UwS8ih6"
      },
      "execution_count": null,
      "outputs": []
    },
    {
      "cell_type": "markdown",
      "source": [
        "#### Questão 8\n",
        "\n",
        "Crie um código que solicite uma frase à pessoa usuária e imprima a mesma frase com todas as vogais “`e`” trocadas pela letra “`f`”."
      ],
      "metadata": {
        "id": "UKATLavs8NfI"
      }
    },
    {
      "cell_type": "code",
      "source": [
        "frase = input('Digite uma frase de sua escolha: ')\n",
        "print(frase.replace('e', 'f'))"
      ],
      "metadata": {
        "id": "k64C5G5S8iLO"
      },
      "execution_count": null,
      "outputs": []
    },
    {
      "cell_type": "markdown",
      "source": [
        "#### Questão 9\n",
        "\n",
        "\n",
        "Crie um código que solicite uma frase à pessoa usuária e imprima a mesma frase com todas as vogais “`a`” trocadas pela caractere  “`@`”."
      ],
      "metadata": {
        "id": "n_1SPchw8NdG"
      }
    },
    {
      "cell_type": "code",
      "source": [
        "frase = input('Digite uma frase de sua escolha: ')\n",
        "print(frase.replace('a', '@'))"
      ],
      "metadata": {
        "id": "msaDNm_p8h0D"
      },
      "execution_count": null,
      "outputs": []
    },
    {
      "cell_type": "markdown",
      "source": [
        "#### Questão 10\n",
        "\n",
        "\n",
        "Crie um código que solicite uma frase à pessoa usuária e imprima a mesma frase com todas as consoantes “`s`” trocadas pelo caractere  “`$`”."
      ],
      "metadata": {
        "id": "H3sTTjqI8Naa"
      }
    },
    {
      "cell_type": "code",
      "source": [
        "frase = input('Digite uma frase de sua escolha: ')\n",
        "print(frase.replace('s', '$'))"
      ],
      "metadata": {
        "id": "RPBIsWT68e-1"
      },
      "execution_count": null,
      "outputs": []
    },
    {
      "cell_type": "markdown",
      "source": [
        "## Aula 3 - Estruturas condicionais"
      ],
      "metadata": {
        "id": "XGePe4GD2I59"
      }
    },
    {
      "cell_type": "markdown",
      "source": [
        "### Aquecendo na programação"
      ],
      "metadata": {
        "id": "Pr9HTW0UHCdD"
      }
    },
    {
      "cell_type": "markdown",
      "source": [
        "#### Questão 1\n",
        "Escreva um programa que peça à pessoa usuária para fornecer dois números e exibir o número maior."
      ],
      "metadata": {
        "id": "xBZHqhVg80Fy"
      }
    },
    {
      "cell_type": "code",
      "source": [
        "num_1 = float(input('Escolha um numero: '))\n",
        "num_2 = float(input('Escolha outro  numero: '))\n",
        "if num_1 > num_2:\n",
        "  print(f'O {num_1} é maior.')\n",
        "else:\n",
        "  print(f'O {num_2} é maior.')"
      ],
      "metadata": {
        "id": "GJlGnzjc-xyF"
      },
      "execution_count": null,
      "outputs": []
    },
    {
      "cell_type": "markdown",
      "source": [
        "#### Questão 2\n",
        "Escreva um programa que solicite o percentual de crescimento de produção de uma empresa e informe se houve um crescimento (porcentagem positiva) ou decrescimento (porcentagem negativa)."
      ],
      "metadata": {
        "id": "H4sgN7dyHNJF"
      }
    },
    {
      "cell_type": "code",
      "source": [
        "percentual = float(input('Entre com o percentual de crescimento: '))\n",
        "\n",
        "if percentual > 0:\n",
        "  print('Houve crescimento da empresa')\n",
        "\n",
        "elif percentual == 0:\n",
        "  print('Não houve crescimento e nem decrescimento')\n",
        "else:\n",
        "  print('Houve decrescimento da empresa')\n"
      ],
      "metadata": {
        "id": "-2_Ry5XJ-yZW"
      },
      "execution_count": null,
      "outputs": []
    },
    {
      "cell_type": "markdown",
      "source": [
        "#### Questão 3\n",
        "Escreva um programa que determine se uma letra fornecida pela pessoa usuária é uma vogal ou consoante."
      ],
      "metadata": {
        "id": "a_mzNOBDHNny"
      }
    },
    {
      "cell_type": "code",
      "source": [
        "letra = input('Escolha uma letra: ').lower()\n",
        "vogais = ('a','e','i','o','u')\n",
        "\n",
        "if letra in vogais:\n",
        "  print (f' A letra {letra} é uma vogal. ')\n",
        "else:\n",
        "  print(f'A letra {letra} é uma cosoante.')"
      ],
      "metadata": {
        "id": "NbgndVyg-zFJ"
      },
      "execution_count": null,
      "outputs": []
    },
    {
      "cell_type": "markdown",
      "source": [
        "#### Questão 4\n",
        "Escreva um programa que leia valores médios de preços de um modelo de carro por 3 anos consecutivos e exiba o valor mais alto e mais baixo entre esses três anos."
      ],
      "metadata": {
        "id": "mofMRjSZHP99"
      }
    },
    {
      "cell_type": "code",
      "source": [
        "preco_1 = float(input(' Informe o preço do carro no ano 1: '))\n",
        "preco_2 = float(input(' Informe o preço do carro no ano 2: '))\n",
        "preco_3 = float(input(' Informe o preço do carro no ano 3: '))\n",
        "\n",
        "if preco_1 > preco_2 > preco_3:\n",
        "  print(f'O {preco_1} do ano 1 é o maior valor.')\n",
        "elif preco_2 > preco_1 > preco_3:\n",
        "  print(f'O {preco_2} do ano 2 é o maior valor.')\n",
        "elif preco_3 > preco_1 > preco_2:\n",
        "  print(f'O {preco_3} do ano 3 é o maior valor.')\n",
        "\n",
        "if preco_1 < preco_2 < preco_3:\n",
        "  print(f'O valor de {preco_1} do ano 1 é o menor valor.')\n",
        "elif preco_2 < preco_1 < preco_3:\n",
        "  print(f'O valor de {preco_2} do ano 2 é o menor valor.')\n",
        "else:\n",
        "  print(f'O valor de {preco_3} do ano 3 é o menor valor.')\n",
        "\n"
      ],
      "metadata": {
        "id": "TX--d3k9-02c"
      },
      "execution_count": null,
      "outputs": []
    },
    {
      "cell_type": "markdown",
      "source": [
        "#### Questão 5\n",
        "Escreva um programa que pergunte sobre o preço de três produtos e indique qual é o produto mais barato para comprar."
      ],
      "metadata": {
        "id": "bgtxYmWLby0g"
      }
    },
    {
      "cell_type": "code",
      "source": [
        "produto_1 = float(input('Informe o preço do produto 1: '))\n",
        "produto_2 = float(input('Informe o preço do produto 2: '))\n",
        "produto_3 = float(input('Informe o preço do produto 3: '))\n",
        "\n",
        "if produto_1 < produto_2 < produto_3:\n",
        "  print(f'O produto 1 com valor de R$ {produto_1} é o mais barato.')\n",
        "elif produto_2 < produto_1 < produto_3:\n",
        "  print(f'O produto 2 com valor de R$ {produto_2} é o mais  barato.')\n",
        "else:\n",
        "  print(f'O produto 3 com valor de R$ {produto_3} é o mais barato.')\n"
      ],
      "metadata": {
        "id": "sYqNh9df-0gk"
      },
      "execution_count": null,
      "outputs": []
    },
    {
      "cell_type": "markdown",
      "source": [
        "#### Questão 6\n",
        "Escreva um programa que leia três números e os exiba em ordem decrescente."
      ],
      "metadata": {
        "id": "1r6aVxtTHR4E"
      }
    },
    {
      "cell_type": "code",
      "source": [
        "num1 = float(input('Escolha um numero:'))\n",
        "num2 = float(input('Escolha um numero:'))\n",
        "num3 = float(input('Escolha um numero:'))\n",
        "\n",
        "lista = [num1, num2, num3]\n",
        "lista.sort(reverse = True)\n",
        "print(lista)\n",
        "\n",
        "if num1 > num2  and num2 > num3:\n",
        "  print(f'{num1}, {num2}, {num3}')\n",
        "elif num1 > num3  and num3 > num2:\n",
        "   print(f'{num1}, {num3}, {num2}')\n",
        "elif num2 > num1  and num1 > num3:\n",
        "   print(f'{num2}, {num1}, {num3}')\n",
        "elif num2 > num3  and num3 > num1:\n",
        "  print(f'{num2}, {num3}, {num1}')\n",
        "elif num3 > num2  and num2 > num1:\n",
        "   print (f'{num3}, {num2}, {num1}')\n",
        "else:\n",
        "  print(f'{num3}, {num1}, {num2}')\n"
      ],
      "metadata": {
        "id": "ydOCYUMO-0Hk"
      },
      "execution_count": null,
      "outputs": []
    },
    {
      "cell_type": "markdown",
      "source": [
        "#### Questão 7\n",
        "Escreva um programa que pergunte em qual turno a pessoa usuária estuda (\"manhã\", \"tarde\" ou \"noite\") e exiba a mensagem \"Bom Dia!\", \"Boa Tarde!\", \"Boa Noite!\", ou \"Valor Inválido!\", conforme o caso."
      ],
      "metadata": {
        "id": "inW3F-hAHS_X"
      }
    },
    {
      "cell_type": "code",
      "source": [
        "turno = input('Qual é deu período de estudo? ')\n",
        "\n",
        "if turno == 'manhã':\n",
        "  print('Bom dia !!')\n",
        "elif turno == 'tarde':\n",
        "  print('Boa tarde !!')\n",
        "elif turno == 'noite':\n",
        "  print ('Boa noite !!')\n",
        "else:\n",
        "  print('Valor inválido')"
      ],
      "metadata": {
        "id": "-_q-Pcr_-zth"
      },
      "execution_count": null,
      "outputs": []
    },
    {
      "cell_type": "markdown",
      "source": [
        "#### Questão 8\n",
        "Escreva um programa que peça um número inteiro à pessoa usuária e determine se ele é par ou ímpar. Dica: Você pode utilizar o operador módulo `%`."
      ],
      "metadata": {
        "id": "NCCPF3QqHTw-"
      }
    },
    {
      "cell_type": "code",
      "source": [
        "num = int(input('Informe um numero inteiro: '))\n",
        "resto = num%2\n",
        "\n",
        "if resto != 0:\n",
        "  print(' O número escolhido é impar.')\n",
        "else:\n",
        "  print('O número é par.')"
      ],
      "metadata": {
        "id": "OmZJt1nQ-3e6"
      },
      "execution_count": null,
      "outputs": []
    },
    {
      "cell_type": "markdown",
      "source": [
        "#### Questão 9\n",
        "Escreva um programa que peça um número à pessoa usuária e informe se ele é inteiro ou decimal."
      ],
      "metadata": {
        "id": "h93Ck1tQHUwE"
      }
    },
    {
      "cell_type": "code",
      "source": [
        "num = float(input('Informe um numero:'))\n",
        "resto = num%1\n",
        "\n",
        "if resto != 0:\n",
        "  print(' O numero é decimal.')\n",
        "else:\n",
        "  print('O número é inteiro.')\n"
      ],
      "metadata": {
        "id": "sLMlZcx8-20N"
      },
      "execution_count": null,
      "outputs": []
    },
    {
      "cell_type": "markdown",
      "source": [
        "### Momento dos projetos"
      ],
      "metadata": {
        "id": "bKdXSK1SH_pF"
      }
    },
    {
      "cell_type": "markdown",
      "source": [
        "#### Questão 10\n",
        "Um programa deve ser escrito para ler dois números e, em seguida, perguntar à pessoa usuária qual operação ele deseja realizar. O resultado da operação deve incluir informações sobre o número - se é par ou ímpar, positivo ou negativo e inteiro ou decimal."
      ],
      "metadata": {
        "id": "WBlEyyzsHV86"
      }
    },
    {
      "cell_type": "code",
      "source": [
        "num1 = float(input('Escolha um numero:'))\n",
        "num2 = float(input('Escolha um numero:'))\n",
        "soma = num1 + num2\n",
        "subtrair = num1 - num2\n",
        "multiplicar = num1 * num2\n",
        "dividir = num1/num2\n",
        "\n",
        "pergunta = input('Você deseja somar, subtrair , multiplicar ou divididir os números informados anteriormente ?')\n",
        "\n",
        "if pergunta == 'somar':\n",
        "   resultado = soma\n",
        "   print (f'O resultado da soma entre {num1} e {num2} é igual a {soma}')\n",
        "\n",
        "elif pergunta == 'subtrair':\n",
        "   resultado = subtrair\n",
        "   print (f'O resultado da subtração entre {num1} e {num2} é igual a {subtrair}')\n",
        "\n",
        "elif pergunta == 'multiplicar':\n",
        "   resultado = multiplicar\n",
        "   print (f'O resultado da multiplicação entre {num1} e {num2} é igual a {multiplicar}')\n",
        "\n",
        "elif pergunta == 'dividir':\n",
        "    resultado = dividir\n",
        "    print (f'O resultado da divisão entre {num1} e {num2} é igual a {dividir}')\n",
        "\n",
        "else:\n",
        "  print('Escolha uma operação')\n",
        "\n",
        "\n",
        "if resultado%2 != 0:\n",
        "  resultado_p_i = 'número impar'\n",
        "else:\n",
        "  resultado_p_i = 'número par'\n",
        "\n",
        "if resultado%1 != 0:\n",
        "  resultado_i_d = 'decimal'\n",
        "else:\n",
        "  resultado_i_d = 'inteiro'\n",
        "if resultado > 0:\n",
        "  resultado_p_n = 'positivo'\n",
        "else:\n",
        "  resultado_p_n ='negativo'\n",
        "\n",
        "print(f'O número {resultado} é um {resultado_p_i}, {resultado_i_d} e {resultado_p_n}.')"
      ],
      "metadata": {
        "id": "3jmahZ0f-2gq"
      },
      "execution_count": null,
      "outputs": []
    },
    {
      "cell_type": "markdown",
      "source": [
        "#### Questão 11\n",
        "Escreva um programa que peça à pessoa usuária três números que representam os lados de um triângulo. O programa deve informar se os valores podem ser utilizados para formar um triângulo e, caso afirmativo, se ele é equilátero, isósceles ou escaleno. Tenha em mente algumas dicas:\n",
        "- Três lados formam um triângulo quando a soma de quaisquer dois lados for maior que o terceiro;\n",
        "- Triângulo Equilátero: três lados iguais;\n",
        "- Triângulo Isósceles: quaisquer dois lados iguais;\n",
        "- Triângulo Escaleno: três lados diferentes;\n"
      ],
      "metadata": {
        "id": "VdnlULxHHW19"
      }
    },
    {
      "cell_type": "code",
      "source": [
        "num1 = float(input('Digite um número para o lado 1 do triângulo: '))\n",
        "num2 = float(input('Digite um número para o lado 2 do triângulo: '))\n",
        "num3 = float(input('Digite um número para o lado 3 do triângulo: '))\n",
        "\n",
        "soma1 = num2 + num3\n",
        "soma2 = num3 + num1\n",
        "soma3 = num2 + num1\n",
        "\n",
        "if soma1 > num1 and soma3 > num3 and soma2 > num2:\n",
        "  if num1 == num2 == num3:\n",
        "    print('Os números escolhidos formam um triângulo  equilatero')\n",
        "  elif( (num1 == num2 and num1 != num3) or (num2 == num3 and num2 != num1) or\n",
        "   (num3 == num1 and num3 != num1 )):\n",
        "   print('Os números escolhidos formam um triângulo  isósceles')\n",
        "  else:\n",
        "   print('Os números escolhidos formam um triângulo  escaleno.')\n",
        "\n",
        "else:\n",
        "      print('Os números escolhidos não formam um triângulo.')\n"
      ],
      "metadata": {
        "id": "0z73sqUO-2Pw"
      },
      "execution_count": null,
      "outputs": []
    },
    {
      "cell_type": "markdown",
      "source": [
        "#### Questão 12\n",
        "Um estabelecimento está vendendo combustíveis com descontos variados. Para o etanol, se a quantidade comprada for até 15 litros, o desconto será de 2% por litro. Caso contrário, será de 4% por litro. Para o diesel, se a quantidade comprada for até 15 litros, o desconto será de 3% por litro. Caso contrário, será de 5% por litro. O preço do litro de diesel é R\\$ 2,00 e o preço do litro de etanol é R\\$ 1,70. Escreva um programa que leia a quantidade de litros vendidos e o tipo de combustível (E para etanol e D para diesel) e calcule o valor a ser pago pelo cliente. Tenha em mente algumas dicas:\n",
        "\n",
        "- O do valor do desconto será a multiplicação entre preço do litro, quantidade de litros e o valor do desconto.\n",
        "- O valor a ser pago por um cliente será o resultado da multiplicação do preço do litro pela quantidade de litros menos o valor de desconto resultante do cálculo.\n"
      ],
      "metadata": {
        "id": "_PpEpOugHXwZ"
      }
    },
    {
      "cell_type": "code",
      "source": [
        "combustivel = input( 'Informe o tipo de combustivel comprado:')\n",
        "volume_comprado = float(input( 'Informe o volume em litros do combustivel comprado:'))\n",
        "preço_etanol = 1.7\n",
        "preço_diesel = 2.0\n",
        "desc_etanol_1 = 0.02 #descoto por litro para compras até 15 l\n",
        "desc_etanol_2 = 0.04 #descoto por litro para compras acima 15 l\n",
        "desc_diesel_1 = 0.03 #descoto por litro para compras até 15 l\n",
        "desc_diesel_2 = 0.05 #descoto por litro para compras acima 15 l\n",
        "\n",
        "\n",
        "if combustivel == 'etanol':\n",
        "  if volume_comprado <= 15:\n",
        "    desconto = (desc_etanol_1 * volume_comprado * preço_etanol)\n",
        "    valor_pagar = (preço_etanol * volume_comprado) - desconto\n",
        "    print(f'O valor a ser pago é de R$ {valor_pagar}.')\n",
        "  else:\n",
        "     desconto = (desc_etanol_2 * volume_comprado * preço_etanol)\n",
        "     valor_pagar = (preço_etanol * volume_comprado) - desconto\n",
        "     print(f'O valor a ser pago é de R$ {valor_pagar}.')\n",
        "\n",
        "if combustivel == 'diesel':\n",
        "  if volume_comprado <= 15:\n",
        "    desconto = (desc_diesel_1 * volume_comprado * preço_diesel)\n",
        "    valor_pagar = (preço_diesel * volume_comprado) - desconto\n",
        "    print(f'O valor a ser pago é de R$ {valor_pagar}.')\n",
        "  else:\n",
        "     desconto = (desc_diesel_2 * volume_comprado * preço_diesel)\n",
        "     valor_pagar = (preço_diesel * volume_comprado) - desconto\n",
        "     print(f'O valor a ser pago é de R$ {valor_pagar}.')\n",
        "\n"
      ],
      "metadata": {
        "id": "9izoF-0O-1yD"
      },
      "execution_count": null,
      "outputs": []
    },
    {
      "cell_type": "markdown",
      "source": [
        "#### Questão 13\n",
        "Em uma empresa de venda de imóveis você precisa criar um código que analise os dados de vendas anuais para ajudar a diretoria na tomada de decisão. O código precisa coletar os dados de quantidade de venda durante os anos de 2022 e 2023 e fazer um cálculo de variação percentual. A partir do valor da variação, deve ser enviada às seguintes sugestões:\n",
        "- Para variação acima de 20%: bonificação para o time de vendas.\n",
        "- Para variação entre 2% e 20%: pequena bonificação para time de vendas.\n",
        "- Para variação entre 2% e -10%: planejamento de políticas de incentivo às vendas.\n",
        "- Para bonificações abaixo de -10%: corte de gastos.\n"
      ],
      "metadata": {
        "id": "s_XS_D1WHY2R"
      }
    },
    {
      "cell_type": "code",
      "source": [
        "percentual = float(input('Informe o percentual de vendas durante os anos 2022  e 2023  '))\n",
        "\n",
        "if percentual > 20:\n",
        "   print('Bonificação para o time de vendas')\n",
        "elif 2 < percentual <= 20:\n",
        "    print('Pequena bonificação para time vendas')\n",
        "elif -10 < percentual <= 2:\n",
        "   print('Planejamento de políticas de incentivo às vendas')\n",
        "else:\n",
        "    print('Corte de gastos')\n",
        "\n"
      ],
      "metadata": {
        "id": "avQrYlUg-w8f"
      },
      "execution_count": null,
      "outputs": []
    },
    {
      "cell_type": "markdown",
      "source": [
        "## Aula 4 - Estruturas de repetição"
      ],
      "metadata": {
        "id": "AuaWh4-d2Itt"
      }
    },
    {
      "cell_type": "markdown",
      "source": [
        "### Aquecendo na programação"
      ],
      "metadata": {
        "id": "6MSqU0sIJRdD"
      }
    },
    {
      "cell_type": "markdown",
      "source": [
        "#### Questão 1\n",
        "Escreva um programa que peça dois números inteiros e imprima todos os números inteiros entre eles."
      ],
      "metadata": {
        "id": "9eGGyCnAJRdQ"
      }
    },
    {
      "cell_type": "code",
      "source": [
        "num_1 = int(input('Informe um numero: '))\n",
        "num_2 = int(input('Informe um numero: '))\n",
        "\n",
        "for numero in range(num_1,num_2):\n",
        "    if numero == num_1:\n",
        "        continue\n",
        "    print(numero)"
      ],
      "metadata": {
        "id": "ID1oc1hxJRdQ"
      },
      "execution_count": null,
      "outputs": []
    },
    {
      "cell_type": "markdown",
      "source": [
        "#### Questão 2\n",
        "Escreva um programa para calcular quantos dias levará para a colônia de uma bactéria A ultrapassar ou igualar a colônia de uma bactéria B, com base nas taxas de crescimento de 3% e 1,5% respectivamente. Considere que a colônia A inicia com 4 elementos e a colônia B com 10 elementos."
      ],
      "metadata": {
        "id": "mGonEHYCJRdR"
      }
    },
    {
      "cell_type": "code",
      "source": [
        "bacteria_a = 4\n",
        "bacteria_b = 10\n",
        "taxa_a = 0.03\n",
        "taxa_b = 0.015\n",
        "dias = 0\n",
        "\n",
        "while bacteria_a != bacteria_b:\n",
        "      bacteria_a = bacteria_a + (bacteria_a * taxa_a)\n",
        "      bacteria_b = bacteria_b + (bacteria_b * taxa_b)\n",
        "      dias += 1\n",
        "print(f\"{dias} dias\")"
      ],
      "metadata": {
        "id": "wM6FJuoqJRdR"
      },
      "execution_count": null,
      "outputs": []
    },
    {
      "cell_type": "markdown",
      "source": [
        "#### Questão 3\n",
        "Para tratar uma quantidade de 15 dados de avaliações de pessoas usuárias de um serviço da empresa, precisamos verificar se as notas são válidas. Então, escreva um programa que vai receber a nota de 0 a 5 de todos os dados e verificar se é um valor válido. Caso seja inserido uma nota acima de 5 ou abaixo de 0, repita até que a pessoa usuária insira um valor válido."
      ],
      "metadata": {
        "id": "UiOZRlqoJRdR"
      }
    },
    {
      "cell_type": "code",
      "source": [
        "contador = 1\n",
        "\n",
        "while contador <= 15:\n",
        "    num = float(input('Informe um numero de 0 a 5 :'))\n",
        "    if 0 <= num <= 5:\n",
        "      print('O numero é valido')\n",
        "      contador += 1\n",
        "    else:\n",
        "      print('O numero é invalido. Tente novamente' )\n",
        "\n"
      ],
      "metadata": {
        "id": "3TUAhCxcJRdR"
      },
      "execution_count": null,
      "outputs": []
    },
    {
      "cell_type": "markdown",
      "source": [
        "#### Questão 4\n",
        "Desenvolva um programa que leia um conjunto indeterminado de temperaturas em Celsius e faça uma análise. Portanto, escreva um programa que leia temperaturas e informe a média delas. A leitura deve ser encerrada ao ser enviado o valor -273°C."
      ],
      "metadata": {
        "id": "ABv3KObGJRdR"
      }
    },
    {
      "cell_type": "code",
      "source": [
        "temp = float(input('Informe os valores de temperatura em Celsius:  '))\n",
        "contador = 0\n",
        "soma = 0\n",
        "\n",
        "while temp != -273:\n",
        "  soma += temp\n",
        "  contador += 1\n",
        "  temp = float(input('Informe os valores de temperatura em Celsius:  '))\n",
        "\n",
        "media = soma/contador\n",
        "\n",
        "print(f'A media das temperaturas informadas {media:.2f}.')\n"
      ],
      "metadata": {
        "id": "85tBBj5KJRdS"
      },
      "execution_count": null,
      "outputs": []
    },
    {
      "cell_type": "markdown",
      "source": [
        "#### Questão 5\n",
        "Escreva um programa que calcule o fatorial de um número inteiro fornecido pela pessoa usuária. O fatorial de um número inteiro é a multiplicação desse número por todos os seus antecessores até o número 1. Por exemplo, o fatorial de 5 é 5 x 4 x 3 x 2 x 1 = 120."
      ],
      "metadata": {
        "id": "IjkbAfGcJRdS"
      }
    },
    {
      "cell_type": "code",
      "source": [
        "num = int(input('Informe um ´numero para gerar seu fatorial: '))\n",
        "fatorial = 1\n",
        "contador = 1\n",
        "\n",
        "while contador <= num:\n",
        "      fatorial *= contador\n",
        "      contador += 1\n",
        "\n",
        "print (fatorial)\n",
        "\n"
      ],
      "metadata": {
        "id": "7RTH8o0HJRdS"
      },
      "execution_count": null,
      "outputs": []
    },
    {
      "cell_type": "markdown",
      "source": [
        "### Momento dos projetos"
      ],
      "metadata": {
        "id": "oGNKuQjsJRdT"
      }
    },
    {
      "cell_type": "markdown",
      "source": [
        "#### Questão 6\n",
        "Escreva um programa que gere a tabuada de um número inteiro de 1 a 10, de acordo com a escolha da pessoa usuária. Como exemplo, para o número 2, a tabuada deve ser mostrada no seguinte formato:\n",
        "```\n",
        "Tabuada do 2:\n",
        "2 x 1 = 2\n",
        "2 x 2 = 4\n",
        "[...]\n",
        "2 x 10 = 20\n",
        "```"
      ],
      "metadata": {
        "id": "ODxaTUYmJRdS"
      }
    },
    {
      "cell_type": "code",
      "source": [
        "num = int(input('Informe um número inteiro para gerar a tabuada: '))\n",
        "contador = 0\n",
        "print( f'A tabuada do {num} é :')\n",
        "\n",
        "while contador < 10:\n",
        "  tabuada =  num * (contador + 1)\n",
        "  contador += 1\n",
        "\n",
        "  print(f' {contador} * {num} = {tabuada}' )\n"
      ],
      "metadata": {
        "id": "lkTlbxPIJRdS"
      },
      "execution_count": null,
      "outputs": []
    },
    {
      "cell_type": "markdown",
      "source": [
        "#### Questão 7\n",
        "Os números primos possuem várias aplicações dentro da Ciência de Dados, por exemplo, na criptografia e segurança. Um número primo é aquele que é divisível apenas por um e por ele mesmo. Faça um programa que peça um número inteiro e determine se ele é ou não um número primo."
      ],
      "metadata": {
        "id": "LeIbnt8VJRdS"
      }
    },
    {
      "cell_type": "code",
      "source": [
        "num = int(input('Informe um número inteiro para saber se é primo: '))\n",
        "primo = 0\n",
        "\n",
        "for i in range(1,(num+1)):\n",
        "  if num%i == 0:\n",
        "   primo += 1\n",
        "\n",
        "if primo == 2:\n",
        "   print(f'O número {num} primo')\n",
        "else:\n",
        "    print(f'O número {num} não é primo')\n"
      ],
      "metadata": {
        "id": "2rcNU7twJRdS"
      },
      "execution_count": null,
      "outputs": []
    },
    {
      "cell_type": "markdown",
      "source": [
        "8) Vamos entender a distribuição de idades de pensionistas de uma empresa de previdência. Escreva um programa que leia as idades de uma quantidade não informada de clientes e mostre a distribuição em intervalos de [0-25], [26-50], [51-75] e [76-100]. Encerre a entrada de dados com um número negativo."
      ],
      "metadata": {
        "id": "MK6ax21NEHao"
      }
    },
    {
      "cell_type": "code",
      "source": [
        "idade = int(input('Informe a idade dos pensionistas: '))\n",
        "soma = 0\n",
        "idade_0_25 = 0\n",
        "idade_26_50 = 0\n",
        "idade_51_75  = 0\n",
        "idade_76_100 = 0\n",
        "\n",
        "while idade >= 0:\n",
        "      soma += 1\n",
        "      if  0 <= idade <=25:\n",
        "         idade_0_25 += 1\n",
        "      elif 26 <= idade <= 50:\n",
        "         idade_26_50 += 1\n",
        "      elif 51 <= idade <= 75:\n",
        "         idade_51_75 += 1\n",
        "      elif 76 <= idade <= 100:\n",
        "          idade_76_100 += 1\n",
        "      idade = int(input('Informe a idade dos pensionistas: '))\n",
        "\n",
        "print('\\nFaixa etária \\t Distrbuição das idades')\n",
        "print(f'[0  - 25] \\t\\t{idade_0_25}\\n[26 - 50] \\t\\t{idade_26_50}\\n[51 - 75] \\t\\t{idade_51_75}\\n[76 - 100] \\t\\t{idade_76_100}')\n"
      ],
      "metadata": {
        "id": "RP9Avx3mELYj"
      },
      "execution_count": null,
      "outputs": []
    },
    {
      "cell_type": "markdown",
      "source": [
        "#### Questão 9\n",
        "Em uma eleição para gerência em uma empresa com 20 funcionários, existem quatro candidatos. Escreva um programa que calcule o vencedor da eleição. A votação ocorreu da seguinte maneira:\n",
        "- Cada funcionário votou em um dos quatro candidatos (representados pelos números 1, 2, 3 e 4).\n",
        "- Também foram contabilizados os votos nulos (representado pelo número 5) e os votos em branco (representado pelo número 6).\n",
        "\n",
        "Ao final da votação, o programa deve exibir o total de votos para cada candidato, o número de votos nulos e o número de votos em branco. Além disso, deve calcular e exibir a porcentagem de votos nulos em relação ao total de votos e a porcentagem de votos em branco em relação ao total de votos."
      ],
      "metadata": {
        "id": "soJCQVwRJRdT"
      }
    },
    {
      "cell_type": "code",
      "source": [
        "candidato_1 = 0\n",
        "candidato_2 = 0\n",
        "candidato_3 = 0\n",
        "candidato_4 = 0\n",
        "voto_nulo = 0\n",
        "voto_branco = 0\n",
        "\n",
        "for candidato in range (1,21):\n",
        "    candidato = input('Informe o número do deu candidato: ')\n",
        "    if candidato == '1':\n",
        "       candidato_1 += 1\n",
        "    elif candidato == '2':\n",
        "         candidato_2 += 1\n",
        "    elif candidato == '3':\n",
        "         candidato_3 += 1\n",
        "    elif candidato == '4':\n",
        "         candidato_4 += 1\n",
        "    elif candidato == '6':\n",
        "         voto_branco += 1\n",
        "    else:\n",
        "         voto_nulo += 1\n",
        "\n",
        "votos_totais = int(candidato_1 +candidato_2 +candidato_3 + candidato_4)\n",
        "porc_nulos = float((voto_nulo/votos_totais)*100)\n",
        "porc_brancos = float((voto_branco/votos_totais)*100)\n",
        "\n",
        "print(f'\\nA quantidade de votos contados foi:\\nCandidatos\\tQuantidade de votos\\nCandidato 1\\t\\t{candidato_1}')\n",
        "print(f'Candidato 2\\t\\t{candidato_2}\\nCandidato 3\\t\\t{candidato_3}\\nCandidato 4\\t\\t{candidato_4}\\nVotos brancos\\t\\t{voto_branco}\\nVotos nulos\\t\\t{voto_nulo}')\n",
        "print(f'A porcentagem de votos nulos em relação ao total de votos é {porc_nulos} % e a porcentagem de votos em branco em relação ao total de votos {porc_brancos}%.')\n"
      ],
      "metadata": {
        "id": "041EFrgG-4gR"
      },
      "execution_count": null,
      "outputs": []
    },
    {
      "cell_type": "markdown",
      "source": [
        "## Aula 5 - Estruturas de dados"
      ],
      "metadata": {
        "id": "eijHQiNU2IZ7"
      }
    },
    {
      "cell_type": "markdown",
      "source": [
        "### Aquecendo na programação"
      ],
      "metadata": {
        "id": "92F0bKtBMgd7"
      }
    },
    {
      "cell_type": "markdown",
      "source": [
        "#### Questão 1\n",
        "Faça um programa que tenha a seguinte lista contendo os valores de gastos de uma empresa de papel `[2172.54, 3701.35, 3518.09, 3456.61, 3249.38, 2840.82, 3891.45, 3075.26, 2317.64, 3219.08]`. Com esses valores, faça um programa que calcule a média de gastos. Dica, use as funções built-in [`sum()`](https://docs.python.org/3/library/functions.html#sum) e [`len()`](https://docs.python.org/3/library/functions.html#len)."
      ],
      "metadata": {
        "id": "IypX2ANuMgeC"
      }
    },
    {
      "cell_type": "code",
      "source": [
        "gastos = [2172.54, 3701.35, 3518.09, 3456.61, 3249.38, 2840.82, 3891.45, 3075.26, 2317.64, 3219.08]\n",
        "\n",
        "media = sum(gastos)/len(gastos)\n",
        "\n",
        "print(f'A média dos gastos é R$ {media}')\n"
      ],
      "metadata": {
        "id": "ge3LuFhLMgeD"
      },
      "execution_count": null,
      "outputs": []
    },
    {
      "cell_type": "markdown",
      "source": [
        "#### Questão 2\n",
        " Com os mesmos dados da questão anterior, defina quantas compras foram acima de 3000 reais e calcule a porcentagem quanto ao total de compras."
      ],
      "metadata": {
        "id": "xrOeLhQkMgeD"
      }
    },
    {
      "cell_type": "code",
      "source": [
        "gastos = [2172.54, 3701.35, 3518.09, 3456.61, 3249.38, 2840.82, 3891.45, 3075.26, 2317.64, 3219.08]\n",
        "valores = 0 #valores acima de 3000.00\n",
        "\n",
        "for i in gastos:\n",
        "  if i > 3000:\n",
        "    valores += 1\n",
        "\n",
        "quantidade_gastos = len(gastos)\n",
        "porcentagem = (valores/quantidade_gastos)*100\n",
        "\n",
        "print(f'{valores} compras foram acima de R$3000,00.')\n",
        "print(f'{porcentagem}% dos gastos foram acima de R$3000,00.')\n",
        "\n"
      ],
      "metadata": {
        "id": "Ygu5TMZyMgeD"
      },
      "execution_count": null,
      "outputs": []
    },
    {
      "cell_type": "markdown",
      "source": [
        "#### Questão 3\n",
        "Faça um código que colete em uma lista 5 números inteiros quaisquer e imprima a lista. Exemplo: `[1,4,7,2,4]`."
      ],
      "metadata": {
        "id": "JgCOrE_BMgeD"
      }
    },
    {
      "cell_type": "code",
      "source": [
        "lista = []\n",
        "\n",
        "for i in range(5):\n",
        "   num = int(input('Informe um numero: '))\n",
        "   lista.append(num)\n",
        "\n",
        "\n",
        "print(f'A lista de números escolhidos é {lista}')"
      ],
      "metadata": {
        "id": "vtM9O1hLMgeD"
      },
      "execution_count": null,
      "outputs": []
    },
    {
      "cell_type": "markdown",
      "source": [
        "#### Questão 4\n",
        "Colete novamente 5 inteiros e imprima a lista em ordem inversa à enviada."
      ],
      "metadata": {
        "id": "p3bTp88HMgeD"
      }
    },
    {
      "cell_type": "code",
      "source": [
        "lista = []\n",
        "\n",
        "for i in range(5):\n",
        "   num = int(input('Informe um numero: '))\n",
        "   lista.append(num)\n",
        "\n",
        "print(f'A lista de números escolhidos é {lista[::-1]}')"
      ],
      "metadata": {
        "id": "-CGwMIyHMgeD"
      },
      "execution_count": null,
      "outputs": []
    },
    {
      "cell_type": "markdown",
      "source": [
        "#### Questão 5\n",
        "Faça um programa que, ao inserir um número qualquer, criará uma lista contendo todos os números primos entre 1 e o número digitado."
      ],
      "metadata": {
        "id": "eIXd_z1lMgeD"
      }
    },
    {
      "cell_type": "code",
      "source": [
        "num = int(input('Informe um numero: '))\n",
        "lista_primos = []\n",
        "\n",
        "for intervalo in range(2,num):\n",
        "    primo = True\n",
        "    for teste_primo in range(2,intervalo):\n",
        "        if intervalo%teste_primo == 0:\n",
        "          primo = False\n",
        "          break\n",
        "    if primo:\n",
        "      lista_primos.append(intervalo)\n",
        "\n",
        "\n",
        "print(f'A lista de números primos entre 1 e {num} é {lista_primos}')\n",
        "\n"
      ],
      "metadata": {
        "id": "rj_6GHstMgeE"
      },
      "execution_count": null,
      "outputs": []
    },
    {
      "cell_type": "markdown",
      "source": [
        "#### Questão 6\n",
        "Escreva um programa que peça uma data informando o dia, mês e ano e determine se ela é uma data válida para uma análise."
      ],
      "metadata": {
        "id": "zrbz3ENlMgeE"
      }
    },
    {
      "cell_type": "code",
      "source": [
        "dia = int(input('Informe um dia: '))\n",
        "mês = int(input('Informe um mês: '))\n",
        "ano = int(input('Informe um ano: '))\n",
        "mes_31 = ( 1, 3, 5, 7, 8, 10, 12)\n",
        "mes_30 = (4, 6, 9, 11)\n",
        "data = False\n",
        "\n",
        "if mês in mes_31:\n",
        "    if dia <= 31:\n",
        "       data = True\n",
        "elif mês in mes_30:\n",
        "     if dia <= 30:\n",
        "       data = True\n",
        "elif mês == 2:\n",
        "    if (ano%4 == 0 and ano%100 != 0) or (ano%400 == 0) :\n",
        "        if dia <= 29:\n",
        "         data =True\n",
        "        elif dia <= 28:\n",
        "           data = True\n",
        "\n",
        "if(data):\n",
        "        print('Data válida')\n",
        "else:\n",
        "        print('Inválida')"
      ],
      "metadata": {
        "id": "0eYA8UjTMgeE"
      },
      "execution_count": null,
      "outputs": []
    },
    {
      "cell_type": "markdown",
      "source": [
        "### Momento dos projetos"
      ],
      "metadata": {
        "id": "ut_4VHdGMgeE"
      }
    },
    {
      "cell_type": "markdown",
      "source": [
        "#### Questão 7\n",
        "Para um estudo envolvendo o nível de multiplicação de bactérias em uma colônia, foi coletado o número de bactérias multiplicadas por dia, com base em um processo de duplicação diária e pode ser observado a seguir: `[1.2, 2.1, 3.3, 5.0, 7.8, 11.3, 16.6, 25.1, 37.8, 56.9]`. Tendo esses valores, faça um código que gere uma lista contendo o percentual de crescimento de bactérias por dia, comparando o número de bactérias em cada dia com o número de bactérias do dia anterior. Dica: para calcular o percentual de crescimento usamos a seguinte equação: `100 * (amostra_atual - amostra_passada) / (amostra_passada)`."
      ],
      "metadata": {
        "id": "G86Z0vD_MgeE"
      }
    },
    {
      "cell_type": "code",
      "source": [
        "duplicacao = [1.2, 2.1, 3.3, 5.0, 7.8, 11.3, 16.6, 25.1, 37.8, 56.9]\n",
        "porcentagem_crescimento = []\n",
        "a, b = 0, 1\n",
        "\n",
        "while b < 10:\n",
        "     percentual=((duplicacao[b]-duplicacao[a])/duplicacao[a])*100\n",
        "     a, b = b, b+1\n",
        "     porcentagem_crescimento.append(percentual)\n",
        "\n",
        "\n",
        "print(f'A taxa de porcentagem de crescimento:\\n{porcentagem_crescimento}')"
      ],
      "metadata": {
        "id": "PXNO_CFkMgeE"
      },
      "execution_count": null,
      "outputs": []
    },
    {
      "cell_type": "markdown",
      "source": [
        "#### Questão 8\n",
        "Para uma seleção de produtos alimentícios, precisamos separar o conjunto de IDs dados por números inteiros, sabendo que os produtos com ID par são doces e os com ID ímpar são amargos. Monte um código que colete 10 IDs. Depois, calcule e mostre a quantidade de produtos doces e amargos."
      ],
      "metadata": {
        "id": "p4nxogpnMgeE"
      }
    },
    {
      "cell_type": "code",
      "source": [
        "id = ()\n",
        "doce = 0\n",
        "amargo = 0\n",
        "\n",
        "\n",
        "for i in range (0,10):\n",
        "    id = (int(input(f'Informe o {i+1}° ID do produto:  ')))\n",
        "    if id%2 == 0:\n",
        "      doce += 1\n",
        "    elif id%2 != 0:\n",
        "       amargo += 1\n",
        "\n",
        "\n",
        "print(f'A quantidade de itens doces são {doce}.')\n",
        "print(f'A quantidade de itens amargos são {amargo}.')"
      ],
      "metadata": {
        "id": "WqjO2SZkMgeE"
      },
      "execution_count": null,
      "outputs": []
    },
    {
      "cell_type": "markdown",
      "source": [
        "#### Questão 9\n",
        "Desenvolva um programa que informa a nota de um aluno de acordo com suas respostas. Ele deve pedir a resposta de um aluno para cada questão e é preciso verificar se a resposta foi igual ao gabarito. Cada questão vale um ponto e existem alternativas:  A, B, C ou D.\n",
        "```\n",
        "Gabarito da Prova:\n",
        "01 - D\n",
        "02 - A\n",
        "03 - C\n",
        "04 - B\n",
        "05 - A\n",
        "06 - D\n",
        "07 - C\n",
        "08 - C\n",
        "09 - A\n",
        "10 - B\n",
        "```"
      ],
      "metadata": {
        "id": "t5OrLxV6MgeE"
      }
    },
    {
      "cell_type": "code",
      "source": [
        "gabarito = ['D', 'A', 'C', 'B', 'A', 'D', 'C', 'C', 'A', 'B']\n",
        "respostas = []\n",
        "nota = 0\n",
        "\n",
        "for i in range (0,10):\n",
        "    i = input(f'Informe a resposta da {i+1}° questão:  ')\n",
        "    respostas.append(i.upper())\n",
        "for i in range (0,10):\n",
        "  if respostas[i] == gabarito[i]:\n",
        "   nota += 1\n",
        "\n",
        "print(f'A nota do aluno é {nota}')\n"
      ],
      "metadata": {
        "id": "ytIQDJrQMgeE"
      },
      "execution_count": null,
      "outputs": []
    },
    {
      "cell_type": "markdown",
      "source": [
        "#### Questão 10\n",
        "Um instituto de meteorologia deseja fazer um estudo de temperatura média de cada mês do ano. Para isso, você precisa fazer um código que colete e armazene essas temperaturas médias em uma lista. Depois, calcule a média anual das temperaturas e mostre todas as temperaturas acima da média anual, e em que mês elas ocorreram, mostrando os meses por extenso: Janeiro, Fevereiro, etc."
      ],
      "metadata": {
        "id": "aSBMzh-AMgeF"
      }
    },
    {
      "cell_type": "code",
      "source": [
        "temperaturas_media = []\n",
        "meses = ['Janeiro', 'Fevereiro', 'Março', 'Abril', 'Maio', 'Junho', 'Julho', 'Agosto', 'Setembro', 'Outubro', 'Novembro', 'Dezembro']\n",
        "\n",
        "for i in range (0,12):\n",
        "    i = float(input(f'Informe a temperatura média do mês {i+1}:  '))\n",
        "    temperaturas_media.append(i)\n",
        "    media = sum(temperaturas_media)/len(temperaturas_media)\n",
        "\n",
        "for i in range (0,12):\n",
        "  if temperaturas_media[i] > media:\n",
        "     print(f'Os meses foram {meses[i]}')\n"
      ],
      "metadata": {
        "id": "ftj04s2uMgeF"
      },
      "execution_count": null,
      "outputs": []
    },
    {
      "cell_type": "markdown",
      "source": [
        "#### Questão 11\n",
        "Uma empresa de e-commerce está interessada em analisar as vendas dos seus produtos. Os dados das vendas foram armazenados em um dicionário:\n",
        "```\n",
        "{'Produto A': 300, 'Produto B': 80, 'Produto C': 60,\n",
        " 'Produto D': 200, 'Produto E': 250, 'Produto F': 30}\n",
        "```\n",
        "Escreva um código que calcule o total de vendas e o produto mais vendido."
      ],
      "metadata": {
        "id": "0X8S6s4jMgeF"
      }
    },
    {
      "cell_type": "code",
      "source": [
        "dados = {'Produto A':300,'Produto B':80,'Produto C':60,\n",
        "         'Produto D':200,'Produto E':250,'Produto F':30}\n",
        "\n",
        "total_vendas = 0\n",
        "produto_mais_vendido = ''\n",
        "unidades_vendidas = 0\n",
        "\n",
        "for i in dados.keys():\n",
        "   total_vendas += dados[i]\n",
        "   if dados[i] > unidades_vendidas:\n",
        "      unidades_vendidas = dados[i]\n",
        "      produto_mais_vendido = i\n",
        "\n",
        "print(f'O total das vendas foi {total_vendas}.')\n",
        "print(f'O {produto_mais_vendido} é o mais vendido.')\n"
      ],
      "metadata": {
        "id": "Xa3DJLtFMgeF"
      },
      "execution_count": null,
      "outputs": []
    },
    {
      "cell_type": "markdown",
      "source": [
        "#### Questão 12\n",
        "Uma pesquisa de mercado foi feita para decidir qual design de uma marca infantil mais agrada crianças. A pesquisa foi feita e o votos computados podem ser observados abaixo:\n",
        "```\n",
        "'''\n",
        "Tabela de votos da marca\n",
        "Design 1 - 1334 votos\n",
        "Design 2 - 982 votos\n",
        "Design 3 - 1751 votos\n",
        "Design 4 - 210 votos\n",
        "Design 5 - 1811 votos\n",
        "'''\n",
        "```\n",
        "Adapte os dados fornecidos a você para uma estrutura de dicionário e a partir dele, informe o design vencedor e a porcentagem de votos recebidos.\n"
      ],
      "metadata": {
        "id": "nrEwf_1ZMgeF"
      }
    },
    {
      "cell_type": "code",
      "source": [
        "tabela_votos = {'Design 1': 1334, 'Design 2':982, 'Design 3':1751, 'Design 4':210, 'Design 5': 1811}\n",
        "votos_total = 0\n",
        "design = ''\n",
        "quantidade_votos = 0\n",
        "percentual = 0\n",
        "\n",
        "for votos in tabela_votos.keys():\n",
        "    votos_total += tabela_votos[votos]\n",
        "    if tabela_votos[votos] >  quantidade_votos:\n",
        "       quantidade_votos = tabela_votos[votos]\n",
        "       design = votos\n",
        "       percentual = (quantidade_votos/votos_total)*100\n",
        "\n",
        "\n",
        "print(f'O {design} é o vencedor com {percentual:.2f} % dos votos.')\n"
      ],
      "metadata": {
        "id": "MRPcGR-_MgeF"
      },
      "execution_count": null,
      "outputs": []
    },
    {
      "cell_type": "markdown",
      "source": [
        "#### Questão 13\n",
        "Os funcionários de um setor da empresa que você trabalha vão receber um abono correspondente a 10% do seu salário devido ao ótimo desempenho do time. O setor financeiro solicitou sua ajuda para a verificação das consequências financeiras que esse abono irá gerar nos recursos. Assim, foi encaminhada para você uma lista com os salários que receberão o abono: `[1172, 1644, 2617, 5130, 5532, 6341, 6650, 7238, 7685, 7782, 7903]`. O abono de cada funcionário não pode ser inferior a 200. Em código, transforme cada um dos salários em chaves de um dicionário e o abono de cada salário no elemento. Depois, informe o total de gastos com o abono, quantos funcionários receberam o abono mínimo e qual o maior valor de abono fornecido.\n"
      ],
      "metadata": {
        "id": "HRTFFzKIMgeF"
      }
    },
    {
      "cell_type": "code",
      "source": [
        "salario = [1172, 1644, 2617, 5130, 5532, 6341, 6650, 7238, 7685, 7782, 7903]\n",
        "dicionario_abono = {}\n",
        "abono = 0\n",
        "abono_total = 0\n",
        "abono_minimo = 0\n",
        "maior_abono = 0\n",
        "\n",
        "for sal in salario:\n",
        "    abono = sal * 0.1\n",
        "    if abono < 200:\n",
        "        abono = 200\n",
        "    dicionario_abono[sal] = abono\n",
        "\n",
        "for valor in dicionario_abono.values():\n",
        "    abono_total += valor\n",
        "    if valor == 200:\n",
        "       abono_minimo += 1\n",
        "    elif valor > maior_abono:\n",
        "         maior_abono = valor\n",
        "\n",
        "print(f'Salarios:abonos {dicionario_abono}')\n",
        "print(f'O valor total dos abonos foi de R${abono_total}')\n",
        "print(f'{abono_minimo} funcionários receberam o abono minimo')\n",
        "print(f'maior abono foi no valor de R$ {maior_abono:2f} .')\n",
        "\n",
        "\n"
      ],
      "metadata": {
        "id": "QsDSCua42bLB"
      },
      "execution_count": null,
      "outputs": []
    },
    {
      "cell_type": "markdown",
      "source": [
        "#### Questão 14\n",
        "Uma equipe de cientistas de dados está estudando a diversidade biológica em uma floresta. A equipe fez a coleta de informações sobre o número de espécies de plantas e animais em cada área da floresta e armazenaram essas informações em um dicionário. Nele, a chave descreve a área dos dados e os valores nas listas correspondem às espécies de plantas e animais nas áreas, respectivamente.\n",
        "```\n",
        "{'Área Norte': [2819, 7236],\n",
        " 'Área Leste': [1440, 9492],\n",
        " 'Área Sul': [5969, 7496],\n",
        " 'Área Oeste': [14446, 49688],\n",
        " 'Área Centro': [22558, 45148]}\n",
        "```\n",
        "Escreva um código para calcular a média de espécies por área e identificar a área com a maior diversidade biológica. Dica: use as funções built-in [`sum()`](https://docs.python.org/3/library/functions.html#sum) e [`len()`](https://docs.python.org/3/library/functions.html#len).\n"
      ],
      "metadata": {
        "id": "6dEXZEwjMlWy"
      }
    },
    {
      "cell_type": "code",
      "source": [
        "inventario = {'Área Norte':[2819,7236],  'Área Leste': [1440, 9492], 'Área Sul':[5969,7496],\n",
        "'Área Oeste':[14446,49688], 'Área Centro':[22558,45148]}\n",
        "\n",
        "media_area = 0\n",
        "media_geral = 0\n",
        "maior_diver = 0\n",
        "soma_media = 0\n",
        "\n",
        "print(f'Média de especies por área:')\n",
        "\n",
        "for area in inventario.keys():\n",
        "    media_area = sum(inventario[area])/len(inventario[area])\n",
        "    print(f'{area}\\t{media_area}')\n",
        "    soma_media += media_area\n",
        "    media_geral = soma_media/len(inventario)\n",
        "    if media_area > maior_diver:\n",
        "      maior_diver = media_area\n",
        "      media_area = area\n",
        "\n",
        "print(f'\\n Media geral de especies: {media_geral}')\n",
        "print(f'\\nA área com maior diversidade biologica: {area}.')\n",
        "inventario[area]\n"
      ],
      "metadata": {
        "id": "eQnOUDfYMlWy"
      },
      "execution_count": null,
      "outputs": []
    },
    {
      "cell_type": "markdown",
      "source": [
        "#### Questão 15\n",
        "O setor de RH da sua empresa te pediu uma ajuda para analisar as idades dos funcionários de 4 setores da empresa. Para isso, ele te forneceu os seguintes dados:\n",
        "```\n",
        "{'Setor A': [22, 26, 30, 30, 35, 38, 40, 56, 57, 65],\n",
        " 'Setor B': [22, 24, 26, 33, 41, 49, 50, 54, 60, 64],\n",
        " 'Setor C': [23, 26, 26, 29, 34, 35, 36, 41, 52, 56],\n",
        " 'Setor D': [19, 20, 25, 27, 34, 39, 42, 44, 50, 65]}\n",
        "```\n",
        "Sabendo que cada setor tem 10 funcionários, construa um código que calcule a média de idade de cada setor, a idade média geral entre todos os setores e quantas pessoas estão acima da idade média geral.\n"
      ],
      "metadata": {
        "id": "r0RW2Sy_MlWy"
      }
    },
    {
      "cell_type": "code",
      "source": [
        "dados = {'Setor A': [22, 26, 30, 30, 35, 38, 40, 56, 57, 65],\n",
        "         'Setor B': [22, 24, 26, 33, 41, 49, 50, 54, 60, 64],\n",
        "         'Setor C': [23, 26, 26, 29, 34, 35, 36, 41, 52, 56],\n",
        "         'Setor D': [19, 20, 25, 27, 34, 39, 42, 44, 50, 65]}\n",
        "\n",
        "soma_idade = 0\n",
        "soma_geral = 0\n",
        "media_setor = 0\n",
        "media_geral = 0\n",
        "acima_media_geral = 0\n",
        "\n",
        "for setor, idade in dados.items():\n",
        "    soma_idade = sum(idade)\n",
        "    media_setor = soma_idade/len(idade)\n",
        "    print(f'Média de idade do {setor}: {media_setor}')\n",
        "    soma_geral += media_setor\n",
        "    media_geral = soma_geral/len(dados)\n",
        "print(f'Média geral {media_geral}')\n",
        "\n",
        "for setor, idade in dados.items():\n",
        "    for idades in idade:\n",
        "      if idades > media_geral:\n",
        "        acima_media_geral += 1\n",
        "print(f'{acima_media_geral} pessoas estão acima da idade média geral')\n",
        "\n",
        "\n"
      ],
      "metadata": {
        "id": "wCiwyKP3MmTz"
      },
      "execution_count": null,
      "outputs": []
    }
  ]
}